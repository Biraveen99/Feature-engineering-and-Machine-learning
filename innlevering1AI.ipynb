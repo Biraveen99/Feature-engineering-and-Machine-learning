{
 "cells": [
  {
   "cell_type": "code",
   "execution_count": null,
   "id": "8264deb0",
   "metadata": {},
   "outputs": [],
   "source": [
    "# import pandas as pd\n",
    "import numpy\n",
    "import matplotlib.pyplot as plt\n",
    "\n",
    "url=\"https://raw.githubusercontent.com/umaimehm/Intro_to_AI_2021/main/assignment1/Ruter_data.csv\";\n",
    "\n",
    "\n",
    "\n",
    "\n",
    "\n",
    "#features ive implemented:\n",
    "# how many seats there are left for passangers ✅\n",
    "# time differense between faktisk avgang and planlagt avgang✅\n",
    "# time differense between faktisk ankomst and planlagt ankomst✅\n",
    "# if the bus i a local bus or not✅\n",
    "# if there is no capacity left✅\n",
    "\n",
    "\n",
    "df = pd.read_csv(url, sep = \";\");\n",
    "# how many seats there are left for passangers\n",
    "df['Anatall_passasjerplasser_igjen']= df['Kjøretøy_Kapasitet']-df['Passasjerer_Ombord'] \n",
    "\n",
    "# if the bus i a local bus or not\n",
    "df['Lokal_ny']= ~df.Linjetype.isnull()\n",
    "\n",
    "# time differense between faktisk ankomst and planlagt ankomst\n",
    "df['Tidspunkt_Faktisk_Ankomst_Holdeplass_Fra'] = pd.to_datetime(df['Tidspunkt_Faktisk_Ankomst_Holdeplass_Fra'], errors='coerce')\n",
    "df['Tidspunkt_Planlagt_Ankomst_Holdeplass_Fra'] = pd.to_datetime(df['Tidspunkt_Planlagt_Ankomst_Holdeplass_Fra'], errors='coerce')\n",
    "df['Differanse_avvik_ankomst'] = df['Tidspunkt_Faktisk_Ankomst_Holdeplass_Fra']-df['Tidspunkt_Planlagt_Ankomst_Holdeplass_Fra']\n",
    "\n",
    "\n",
    "# time differense between faktisk avgang and planlagt avgang\n",
    "df['Tidspunkt_Faktisk_Avgang_Holdeplass_Fra'] = pd.to_datetime(df['Tidspunkt_Faktisk_Avgang_Holdeplass_Fra'], errors='coerce')\n",
    "df['Tidspunkt_Planlagt_Avgang_Holdeplass_Fra'] = pd.to_datetime(df['Tidspunkt_Planlagt_Avgang_Holdeplass_Fra'], errors='coerce')\n",
    "df['Differanse_avvik_avgang'] = df['Tidspunkt_Faktisk_Avgang_Holdeplass_Fra']-df['Tidspunkt_Planlagt_Avgang_Holdeplass_Fra']\n",
    "\n",
    "# if there is no capacity left\n",
    "df['Ingen_plasser_tilgjengelig'] = df['Anatall_passasjerplasser_igjen'] == 0 \n",
    "\n",
    "print(df)\n",
    "\n",
    "display(df)\n",
    "\n",
    "\n",
    "df = pd.DataFrame(df, dtype='object')\n",
    "axs = df.plot(subplots=True, figsize=(30, 30));\n",
    "plt.delaxes(axs[0])\n",
    "\n"
   ]
  }
 ],
 "metadata": {
  "kernelspec": {
   "display_name": "Python 3 (ipykernel)",
   "language": "python",
   "name": "python3"
  },
  "language_info": {
   "codemirror_mode": {
    "name": "ipython",
    "version": 3
   },
   "file_extension": ".py",
   "mimetype": "text/x-python",
   "name": "python",
   "nbconvert_exporter": "python",
   "pygments_lexer": "ipython3",
   "version": "3.8.11"
  }
 },
 "nbformat": 4,
 "nbformat_minor": 5
}
